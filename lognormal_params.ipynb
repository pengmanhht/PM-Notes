{
 "cells": [
  {
   "cell_type": "markdown",
   "metadata": {},
   "source": [
    "任务：把normal和lognormal分布参数的关系搞清楚\n",
    "\n",
    "LogNormal Input\n",
    "- log(TV)\n",
    "- Standard Variance (<-CV / Varaince)\n",
    "\n",
    "LogNormal Output\n",
    "- already anti-log transformed values\n",
    "- ready-to-use parameters\n",
    "- no need to exp it"
   ]
  },
  {
   "cell_type": "code",
   "execution_count": 1,
   "metadata": {},
   "outputs": [
    {
     "name": "stderr",
     "output_type": "stream",
     "text": [
      "/Users/peng/miniforge3/envs/numpyro/lib/python3.10/site-packages/tqdm/auto.py:22: TqdmWarning: IProgress not found. Please update jupyter and ipywidgets. See https://ipywidgets.readthedocs.io/en/stable/user_install.html\n",
      "  from .autonotebook import tqdm as notebook_tqdm\n"
     ]
    }
   ],
   "source": [
    "import jax.numpy as jnp\n",
    "from jax import random\n",
    "\n",
    "import numpyro\n",
    "import numpyro.distributions as dist\n",
    "\n",
    "import matplotlib.pyplot as plt"
   ]
  },
  {
   "cell_type": "code",
   "execution_count": 2,
   "metadata": {},
   "outputs": [
    {
     "name": "stdout",
     "output_type": "stream",
     "text": [
      "Mean: 5.100470066070557 | STD: 1.371448278427124\n"
     ]
    },
    {
     "data": {
      "image/png": "[encoded data removed]",
      "text/plain": [
       "<Figure size 432x288 with 1 Axes>"
      ]
     },
     "metadata": {
      "needs_background": "light"
     },
     "output_type": "display_data"
    }
   ],
   "source": [
    "# generate a set of normally distributed numbers\n",
    "x = random.normal(key=random.PRNGKey(123), shape=(200,)) * 1.5 + 5\n",
    "plt.hist(x)\n",
    "print(f\"Mean: {x.mean()} | STD: {x.std()}\")"
   ]
  },
  {
   "cell_type": "code",
   "execution_count": 3,
   "metadata": {},
   "outputs": [
    {
     "data": {
      "image/png": "[encoded data removed]",
      "text/plain": [
       "<Figure size 432x288 with 2 Axes>"
      ]
     },
     "metadata": {
      "needs_background": "light"
     },
     "output_type": "display_data"
    }
   ],
   "source": [
    "# y = exp(x) => y is lognormally distributed\n",
    "y = jnp.exp(x)\n",
    "\n",
    "plt.subplot(121)\n",
    "plt.hist(y)\n",
    "\n",
    "plt.subplot(122)\n",
    "plt.hist(jnp.log(y), color=\"C1\")\n",
    "plt.show()"
   ]
  },
  {
   "cell_type": "code",
   "execution_count": 4,
   "metadata": {},
   "outputs": [
    {
     "data": {
      "text/plain": [
       "(array([ 3., 10., 24., 34., 48., 38., 23., 12.,  5.,  3.]),\n",
       " array([1.555656 , 2.3188868, 3.0821176, 3.8453486, 4.608579 , 5.37181  ,\n",
       "        6.135041 , 6.898272 , 7.661503 , 8.424733 , 9.187964 ],\n",
       "       dtype=float32),\n",
       " <BarContainer object of 10 artists>)"
      ]
     },
     "execution_count": 4,
     "metadata": {},
     "output_type": "execute_result"
    },
    {
     "data": {
      "image/png": "[encoded data removed]",
      "text/plain": [
       "<Figure size 432x288 with 2 Axes>"
      ]
     },
     "metadata": {
      "needs_background": "light"
     },
     "output_type": "display_data"
    }
   ],
   "source": [
    "# if generate a set of log-normally distributed number\n",
    "y_2 = dist.LogNormal(loc=5, scale=1.5).sample(key=random.PRNGKey(123), sample_shape=(200,))\n",
    "plt.subplot(121)\n",
    "plt.hist(y_2)\n",
    "\n",
    "plt.subplot(122)\n",
    "plt.hist(jnp.log(y_2), color=\"C1\")\n",
    "\n",
    "# thus, LogNormal takes the Normal Distribution mean and scale (x in our case), samples from Normal Distribution, \n",
    "# and then returns exp(Normal Values)\n",
    "\n",
    "# the params in our models are LogNormal Distributed, and we feed the model with **LOG(TYPICAL VALUE)** as the mean for dist.LogNormal"
   ]
  },
  {
   "cell_type": "code",
   "execution_count": 5,
   "metadata": {},
   "outputs": [
    {
     "data": {
      "text/plain": [
       "DeviceArray(-0.22314353, dtype=float32, weak_type=True)"
      ]
     },
     "execution_count": 5,
     "metadata": {},
     "output_type": "execute_result"
    }
   ],
   "source": [
    "jnp.log(0.8)"
   ]
  },
  {
   "cell_type": "code",
   "execution_count": 6,
   "metadata": {},
   "outputs": [
    {
     "data": {
      "text/plain": [
       "DeviceArray([2.156515 , 1.8802128, 1.8786286, 1.3338666, 2.6376228,\n",
       "             1.9608029, 3.0111728, 2.997201 , 1.8520424, 1.2795235],            dtype=float32)"
      ]
     },
     "execution_count": 6,
     "metadata": {},
     "output_type": "execute_result"
    }
   ],
   "source": [
    "# X feed typical value and standard deviation, we got most samples larger than what we what\n",
    "dist.LogNormal(loc=0.8, scale=0.3).sample(key=random.PRNGKey(123), sample_shape=(10,))"
   ]
  },
  {
   "cell_type": "code",
   "execution_count": 7,
   "metadata": {},
   "outputs": [
    {
     "data": {
      "text/plain": [
       "DeviceArray([0.7751877 , 0.67586726, 0.6752978 , 0.47947592, 0.9481283 ,\n",
       "             0.7048364 , 1.0824057 , 1.0773835 , 0.665741  , 0.4599416 ],            dtype=float32)"
      ]
     },
     "execution_count": 7,
     "metadata": {},
     "output_type": "execute_result"
    }
   ],
   "source": [
    "# √ feed log(typical value) and standard deviation, we got sampling close to typical values\n",
    "dist.LogNormal(loc=jnp.log(0.8), scale=0.3).sample(key=random.PRNGKey(123), sample_shape=(10,))"
   ]
  },
  {
   "cell_type": "markdown",
   "metadata": {},
   "source": [
    "### Exponential Deviations (Individual Deviations from Population Typical Value)\n",
    "$CL_i = CL \\times EXP(ETA_i)$ and $ETA_i \\sim Normal(0, \\Omega)$\n",
    "\n",
    "=> $log(CL_i) = log(CL) + ETA_i$ and $ETA_i \\sim Normal(0, \\Omega)$\n",
    "\n",
    "=> $log(CL_i) \\sim Normal(log(CL), \\Omega)$\n",
    "\n",
    "=> $CL_i \\sim LogNormal(log(CL), \\Omega)$"
   ]
  },
  {
   "cell_type": "code",
   "execution_count": 8,
   "metadata": {},
   "outputs": [
    {
     "data": {
      "text/plain": [
       "(array([ 8., 14., 20., 20., 17.,  6.,  5.,  3.,  3.,  4.]),\n",
       " array([ 3.892461 ,  8.5376835, 13.182906 , 17.828129 , 22.473352 ,\n",
       "        27.118574 , 31.763798 , 36.40902  , 41.05424  , 45.699467 ,\n",
       "        50.34469  ], dtype=float32),\n",
       " <BarContainer object of 10 artists>)"
      ]
     },
     "execution_count": 8,
     "metadata": {},
     "output_type": "execute_result"
    },
    {
     "data": {
      "image/png": "[encoded data removed]",
      "text/plain": [
       "<Figure size 432x288 with 1 Axes>"
      ]
     },
     "metadata": {
      "needs_background": "light"
     },
     "output_type": "display_data"
    }
   ],
   "source": [
    "# $CL_i = CL * EXP(ETA_i)$ and $ETA_i \\sim Normal(0, \\Omega)$\n",
    "eta_i = dist.Normal(loc=0, scale=0.5).sample(key=random.PRNGKey(123), sample_shape=(100, ))\n",
    "cl_i = 20 * jnp.exp(eta_i)\n",
    "\n",
    "plt.hist(cl_i)"
   ]
  },
  {
   "cell_type": "code",
   "execution_count": 9,
   "metadata": {},
   "outputs": [
    {
     "data": {
      "text/plain": [
       "(array([ 8., 14., 20., 20., 17.,  6.,  5.,  3.,  3.,  4.]),\n",
       " array([ 3.8924613,  8.537684 , 13.182907 , 17.828129 , 22.473352 ,\n",
       "        27.118574 , 31.763798 , 36.40902  , 41.05424  , 45.699467 ,\n",
       "        50.34469  ], dtype=float32),\n",
       " <BarContainer object of 10 artists>)"
      ]
     },
     "execution_count": 9,
     "metadata": {},
     "output_type": "execute_result"
    },
    {
     "data": {
      "image/png": "[encoded data removed]",
      "text/plain": [
       "<Figure size 432x288 with 1 Axes>"
      ]
     },
     "metadata": {
      "needs_background": "light"
     },
     "output_type": "display_data"
    }
   ],
   "source": [
    "# $log(CL_i) = log(CL) + ETA_i$ and $ETA_i \\sim Normal(0, \\Omega)$\n",
    "eta_i = dist.Normal(loc=0, scale=0.5).sample(key=random.PRNGKey(123), sample_shape=(100, ))\n",
    "log_cl_i = jnp.log(20) + eta_i\n",
    "cl_i = jnp.exp(log_cl_i)\n",
    "\n",
    "plt.hist(cl_i)"
   ]
  },
  {
   "cell_type": "code",
   "execution_count": 10,
   "metadata": {},
   "outputs": [
    {
     "data": {
      "text/plain": [
       "(array([ 8., 14., 20., 20., 17.,  6.,  5.,  3.,  3.,  4.]),\n",
       " array([ 3.8924613,  8.537684 , 13.182907 , 17.828129 , 22.473352 ,\n",
       "        27.118574 , 31.763798 , 36.40902  , 41.05424  , 45.699467 ,\n",
       "        50.34469  ], dtype=float32),\n",
       " <BarContainer object of 10 artists>)"
      ]
     },
     "execution_count": 10,
     "metadata": {},
     "output_type": "execute_result"
    },
    {
     "data": {
      "image/png": "[encoded data removed]",
      "text/plain": [
       "<Figure size 432x288 with 1 Axes>"
      ]
     },
     "metadata": {
      "needs_background": "light"
     },
     "output_type": "display_data"
    }
   ],
   "source": [
    "# $log(CL_i) \\sim Normal(log(CL), \\Omega)$\n",
    "log_cl_i = dist.Normal(loc=jnp.log(20), scale=0.5).sample(key=random.PRNGKey(123), sample_shape=(100,))\n",
    "cl_i = jnp.exp(log_cl_i)\n",
    "\n",
    "plt.hist(cl_i)"
   ]
  },
  {
   "cell_type": "code",
   "execution_count": 18,
   "metadata": {},
   "outputs": [
    {
     "data": {
      "text/plain": [
       "(array([ 8., 14., 20., 20., 17.,  6.,  5.,  3.,  3.,  4.]),\n",
       " array([ 3.8924613,  8.537684 , 13.182907 , 17.828129 , 22.473352 ,\n",
       "        27.118574 , 31.763798 , 36.40902  , 41.05424  , 45.699467 ,\n",
       "        50.34469  ], dtype=float32),\n",
       " <BarContainer object of 10 artists>)"
      ]
     },
     "execution_count": 18,
     "metadata": {},
     "output_type": "execute_result"
    },
    {
     "data": {
      "image/png": "[encoded data removed]",
      "text/plain": [
       "<Figure size 432x288 with 1 Axes>"
      ]
     },
     "metadata": {
      "needs_background": "light"
     },
     "output_type": "display_data"
    }
   ],
   "source": [
    "# $CL_i \\sim LogNormal(log(CL), \\Omega)$\n",
    "cl_i = dist.LogNormal(loc=jnp.log(20), scale=0.5).sample(key=random.PRNGKey(123), sample_shape=(100,))\n",
    "\n",
    "plt.hist(cl_i)"
   ]
  },
  {
   "cell_type": "markdown",
   "metadata": {},
   "source": [
    "### Coefficient of Variance\n",
    "\n",
    "$$CV = 100 \\times \\sqrt{exp(\\Omega^2)-1}$$\n",
    "\n",
    "- $\\Omega$ - standard deviation\n",
    "\n",
    "$$CV = 100 \\times \\sqrt{\\Omega^2}$$"
   ]
  },
  {
   "cell_type": "code",
   "execution_count": 11,
   "metadata": {},
   "outputs": [
    {
     "data": {
      "text/plain": [
       "DeviceArray(53.294037, dtype=float32, weak_type=True)"
      ]
     },
     "execution_count": 11,
     "metadata": {},
     "output_type": "execute_result"
    }
   ],
   "source": [
    "omega = 0.5\n",
    "cv = 100 * jnp.sqrt(jnp.exp(omega**2)-1)\n",
    "cv"
   ]
  },
  {
   "cell_type": "code",
   "execution_count": 12,
   "metadata": {},
   "outputs": [
    {
     "data": {
      "text/plain": [
       "DeviceArray(50., dtype=float32, weak_type=True)"
      ]
     },
     "execution_count": 12,
     "metadata": {},
     "output_type": "execute_result"
    }
   ],
   "source": [
    "omega = 0.5\n",
    "cv = 100 * jnp.sqrt(omega**2)\n",
    "cv"
   ]
  }
 ],
 "metadata": {
  "kernelspec": {
   "display_name": "numpyro",
   "language": "python",
   "name": "python3"
  },
  "language_info": {
   "codemirror_mode": {
    "name": "ipython",
    "version": 3
   },
   "file_extension": ".py",
   "mimetype": "text/x-python",
   "name": "python",
   "nbconvert_exporter": "python",
   "pygments_lexer": "ipython3",
   "version": "3.10.5"
  }
 },
 "nbformat": 4,
 "nbformat_minor": 2
}
