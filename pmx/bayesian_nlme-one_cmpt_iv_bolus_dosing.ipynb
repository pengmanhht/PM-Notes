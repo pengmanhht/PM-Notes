{
 "cells": [
  {
   "cell_type": "markdown",
   "metadata": {},
   "source": [
    "# Backgrond\n",
    "- Structural Model: One Compartment Linear Elimination\n",
    "- Route of Administration: IV Bolus\n",
    "- Dosage Regimen: 10 mg IV"
   ]
  },
  {
   "cell_type": "markdown",
   "metadata": {},
   "source": [
    "# Libraries"
   ]
  },
  {
   "cell_type": "code",
   "execution_count": 1,
   "metadata": {},
   "outputs": [
    {
     "name": "stderr",
     "output_type": "stream",
     "text": [
      "/Users/peng/miniforge3/envs/numpyro/lib/python3.10/site-packages/tqdm/auto.py:22: TqdmWarning: IProgress not found. Please update jupyter and ipywidgets. See https://ipywidgets.readthedocs.io/en/stable/user_install.html\n",
      "  from .autonotebook import tqdm as notebook_tqdm\n"
     ]
    }
   ],
   "source": [
    "import jax\n",
    "import jax.numpy as np\n",
    "from jax import random\n",
    "from jax.experimental.ode import odeint\n",
    "\n",
    "import numpyro \n",
    "import numpyro.distributions as dist \n",
    "from numpyro.infer import MCMC, NUTS, SVI, Trace_ELBO\n",
    "from numpyro.infer.initialization import init_to_median\n",
    "from numpyro.infer.autoguide import AutoNormal\n",
    "from numpyro.optim import Adam\n",
    "\n",
    "import arviz as az\n",
    "import matplotlib.pyplot as plt"
   ]
  },
  {
   "cell_type": "markdown",
   "metadata": {},
   "source": [
    "# Model"
   ]
  },
  {
   "cell_type": "code",
   "execution_count": 2,
   "metadata": {},
   "outputs": [],
   "source": [
    "def PK01_ODE(INIT, TIME, VC, CL):\n",
    "    # Initial amount in central compartment (mg)\n",
    "    A0 = INIT\n",
    "    # Amount change in central compartment (mg)\n",
    "    DA_DT = - CL / VC * A0\n",
    "    return DA_DT"
   ]
  },
  {
   "cell_type": "markdown",
   "metadata": {},
   "source": [
    "# Simulation"
   ]
  },
  {
   "cell_type": "code",
   "execution_count": 22,
   "metadata": {},
   "outputs": [
    {
     "name": "stdout",
     "output_type": "stream",
     "text": [
      "TRUE ETA \n",
      "[-0.5491717 -0.5408389]\n",
      "INDIVIDUAL CL \n",
      "[0.13730077 0.10243063 0.24189623 0.08327333 0.21556628]\n",
      "INDIVIDUAL VC \n",
      "[10.265236  12.853039   9.503054   8.0136795  6.5710444]\n"
     ]
    },
    {
     "data": {
      "image/png": "[encoded data removed]",
      "text/plain": [
       "<Figure size 432x288 with 1 Axes>"
      ]
     },
     "metadata": {
      "needs_background": "light"
     },
     "output_type": "display_data"
    }
   ],
   "source": [
    "N = 5\n",
    "TVCL = np.array([0.2])         # L/hr\n",
    "TVVC = np.array([10.])        # L\n",
    "SIGMA = np.array([0.5])\n",
    "TIME = np.linspace(0, 160, 20) # min\n",
    "INIT = np.array([10.] * N)     # mg\n",
    "\n",
    "ODEINT_VMAP = jax.vmap(odeint, in_axes=(None, 0, None, 0, 0)) # in_axes: ODEfunc, INIT, TIME, VC, CL\n",
    "\n",
    "with numpyro.handlers.seed(rng_seed=1234):\n",
    "    # Between-Subject Variance\n",
    "    ETA = numpyro.sample(\"ETA\", dist.MultivariateNormal(covariance_matrix=np.diag(np.array([0.1, 0.1]))))\n",
    "    print(f\"TRUE ETA \\n{ETA}\")\n",
    "    # CL = TVCL * exp(ETA_CL)\n",
    "    CL =  numpyro.sample(\"CL\",  dist.LogNormal(loc=np.log(TVCL), scale=ETA[0]).expand([N,]))\n",
    "    print(f\"INDIVIDUAL CL \\n{CL}\")\n",
    "    # VC = TVVC * exp(ETA_VC)\n",
    "    VC =  numpyro.sample(\"VC\",  dist.LogNormal(loc=np.log(TVVC), scale=ETA[1]).expand([N,]))\n",
    "    print(f\"INDIVIDUAL VC \\n{VC}\")\n",
    "    # Amount in Central Compartment\n",
    "    A0 = ODEINT_VMAP(PK01_ODE, INIT, TIME, VC, CL)\n",
    "    # Concentration (ug/L)\n",
    "    A0_VC = jax.vmap(lambda c, v: c/v * 1000, in_axes=(0, 0))(A0, VC)\n",
    "    # ADD Within-Subject Variance\n",
    "    DV = numpyro.sample(\"DV\", dist.Normal(loc=A0_VC, scale=SIGMA))\n",
    "\n",
    "for i in range(N):\n",
    "    plt.plot(TIME, DV[i], \"o--\")\n",
    "    plt.xlabel(\"Time (minute)\")\n",
    "    plt.ylabel(\"PK01 Concentration (ug/L)\")"
   ]
  },
  {
   "cell_type": "markdown",
   "metadata": {},
   "source": [
    "# Regression"
   ]
  },
  {
   "cell_type": "markdown",
   "metadata": {},
   "source": [
    "## MCMC"
   ]
  },
  {
   "cell_type": "code",
   "execution_count": 13,
   "metadata": {},
   "outputs": [],
   "source": [
    "\n",
    "def PK01_MODEL(INIT, TIME, N, OBS=None):\n",
    "    # PRIORS\n",
    "    # THETA (TIPICAL VALUES)\n",
    "    TVCL = numpyro.sample(\"TVCL\", dist.Uniform(0, 1))\n",
    "    TVVC = numpyro.sample(\"TVVC\", dist.Uniform(0, 15))\n",
    "    # ETA\n",
    "    ETA  = numpyro.sample(\"ETA\",  dist.MultivariateNormal(covariance_matrix=np.diag(np.array([0.1, 0.1]))))\n",
    "    # THETA * EXP(ETA)\n",
    "    CL  = numpyro.sample(\"CL\", dist.LogNormal(loc=np.log(TVCL), scale=ETA[0]).expand([N,]))\n",
    "    VC  = numpyro.sample(\"VC\", dist.LogNormal(loc=np.log(TVVC), scale=ETA[1]).expand([N,]))\n",
    "    # SIGMA\n",
    "    SIGMA = numpyro.sample(\"SIGMA\", dist.HalfNormal())\n",
    "    \n",
    "    # LIKELIHOOD\n",
    "    A0 = ODEINT_VMAP(PK01_ODE, INIT, TIME, VC, CL)\n",
    "    A0_VC = jax.vmap(lambda c, v: c/v * 1000, in_axes=(0, 0))(A0, VC)\n",
    "    numpyro.sample(\"DV\", dist.Normal(loc=A0_VC, scale=SIGMA), obs=OBS)\n"
   ]
  },
  {
   "cell_type": "code",
   "execution_count": 19,
   "metadata": {},
   "outputs": [
    {
     "name": "stderr",
     "output_type": "stream",
     "text": [
      "/var/folders/cb/pxnfxyts32n8rdq49q4djgs80000gn/T/ipykernel_86818/4123535426.py:2: UserWarning: There are not enough devices to run parallel chains: expected 3 but got 1. Chains will be drawn sequentially. If you are running MCMC in CPU, consider using `numpyro.set_host_device_count(3)` at the beginning of your program. You can double-check how many devices are available in your system using `jax.local_device_count()`.\n",
      "  mcmc = MCMC(kernel, num_chains=3, num_warmup=500, num_samples=1500)\n",
      "sample: 100%|██████████| 2000/2000 [00:21<00:00, 93.23it/s, 31 steps of size 3.77e-02. acc. prob=0.90]  \n",
      "sample: 100%|██████████| 2000/2000 [00:17<00:00, 111.61it/s, 63 steps of size 4.23e-02. acc. prob=0.86] \n",
      "sample: 100%|██████████| 2000/2000 [00:18<00:00, 105.95it/s, 31 steps of size 3.67e-02. acc. prob=0.90] \n"
     ]
    }
   ],
   "source": [
    "kernel = NUTS(PK01_MODEL, init_strategy=init_to_median())\n",
    "mcmc = MCMC(kernel, num_chains=3, num_warmup=500, num_samples=1500)\n",
    "mcmc.run(random.PRNGKey(123), INIT, TIME, N, OBS=DV)"
   ]
  },
  {
   "cell_type": "code",
   "execution_count": 21,
   "metadata": {},
   "outputs": [
    {
     "name": "stdout",
     "output_type": "stream",
     "text": [
      "\n",
      "                mean       std    median      5.0%     95.0%     n_eff     r_hat\n",
      "     CL[0]      0.14      0.00      0.14      0.14      0.14   5536.00      1.00\n",
      "     CL[1]      0.10      0.00      0.10      0.10      0.10   4590.08      1.00\n",
      "     CL[2]      0.24      0.00      0.24      0.24      0.24   5065.12      1.00\n",
      "     CL[3]      0.08      0.00      0.08      0.08      0.08   5518.29      1.00\n",
      "     CL[4]      0.22      0.00      0.22      0.22      0.22   5754.56      1.00\n",
      "    ETA[0]      0.45      0.12      0.43      0.27      0.63   1351.96      1.00\n",
      "    ETA[1]      0.30      0.11      0.28      0.15      0.45    849.16      1.00\n",
      "     SIGMA      0.45      0.04      0.45      0.39      0.51   1113.05      1.00\n",
      "      TVCL      0.15      0.03      0.15      0.10      0.21   1153.30      1.00\n",
      "      TVVC      9.42      1.25      9.34      7.38     11.46    770.97      1.00\n",
      "     VC[0]     10.27      0.00     10.27     10.26     10.27   5723.83      1.00\n",
      "     VC[1]     12.85      0.00     12.85     12.84     12.86   5099.83      1.00\n",
      "     VC[2]      9.51      0.00      9.51      9.50      9.51   5491.73      1.00\n",
      "     VC[3]      8.02      0.00      8.02      8.01      8.02   4654.59      1.00\n",
      "     VC[4]      6.57      0.00      6.57      6.57      6.58   5288.57      1.00\n",
      "\n",
      "Number of divergences: 0\n"
     ]
    }
   ],
   "source": [
    "mcmc.print_summary()"
   ]
  },
  {
   "cell_type": "markdown",
   "metadata": {},
   "source": [
    "## SVI"
   ]
  },
  {
   "cell_type": "code",
   "execution_count": 72,
   "metadata": {},
   "outputs": [
    {
     "name": "stderr",
     "output_type": "stream",
     "text": [
      "100%|██████████| 2000/2000 [00:03<00:00, 528.32it/s, init loss: 21217513472.0000, avg. loss [1901-2000]: 42849.8242]  \n"
     ]
    },
    {
     "data": {
      "text/plain": [
       "[<matplotlib.lines.Line2D at 0x2b565a9b0>]"
      ]
     },
     "execution_count": 72,
     "metadata": {},
     "output_type": "execute_result"
    },
    {
     "data": {
      "image/png": "[encoded data removed]",
      "text/plain": [
       "<Figure size 432x288 with 1 Axes>"
      ]
     },
     "metadata": {
      "needs_background": "light"
     },
     "output_type": "display_data"
    }
   ],
   "source": [
    "# approximation\n",
    "# guide = AutoLaplaceApproximation(PK01_MODEL,hessian_fn=lambda f, x: jax.jacobian(jax.jacobian(f))(x))\n",
    "guide = AutoNormal(PK01_MODEL)\n",
    "svi   = SVI(PK01_MODEL, guide, Adam(0.5), Trace_ELBO())\n",
    "svi_result = svi.run(random.PRNGKey(1122), INIT=INIT, TIME=TIME, N=N, OBS=DV, num_steps=2000)\n",
    "plt.plot(svi_result.losses)"
   ]
  },
  {
   "cell_type": "code",
   "execution_count": 73,
   "metadata": {},
   "outputs": [
    {
     "name": "stderr",
     "output_type": "stream",
     "text": [
      "100%|██████████| 2000/2000 [00:03<00:00, 516.73it/s, init loss: 35547.4766, avg. loss [1901-2000]: 1659.0146] \n"
     ]
    },
    {
     "data": {
      "text/plain": [
       "[<matplotlib.lines.Line2D at 0x2bf104bb0>]"
      ]
     },
     "execution_count": 73,
     "metadata": {},
     "output_type": "execute_result"
    },
    {
     "data": {
      "image/png": "[encoded data removed]",
      "text/plain": [
       "<Figure size 432x288 with 1 Axes>"
      ]
     },
     "metadata": {
      "needs_background": "light"
     },
     "output_type": "display_data"
    }
   ],
   "source": [
    "svi_result = svi.run(random.PRNGKey(123), INIT=INIT, TIME=TIME, N=N, OBS=DV, num_steps=2000, init_state=svi_result.state)\n",
    "plt.plot(svi_result.losses)"
   ]
  },
  {
   "cell_type": "code",
   "execution_count": 74,
   "metadata": {},
   "outputs": [
    {
     "name": "stderr",
     "output_type": "stream",
     "text": [
      "100%|██████████| 2000/2000 [00:03<00:00, 523.75it/s, init loss: 1549.9739, avg. loss [1901-2000]: 457.5564] \n"
     ]
    },
    {
     "data": {
      "text/plain": [
       "[<matplotlib.lines.Line2D at 0x2da26ac50>]"
      ]
     },
     "execution_count": 74,
     "metadata": {},
     "output_type": "execute_result"
    },
    {
     "data": {
      "image/png": "[encoded data removed]",
      "text/plain": [
       "<Figure size 432x288 with 1 Axes>"
      ]
     },
     "metadata": {
      "needs_background": "light"
     },
     "output_type": "display_data"
    }
   ],
   "source": [
    "svi_result = svi.run(random.PRNGKey(1122), INIT=INIT, TIME=TIME, N=N, OBS=DV, num_steps=2000, init_state=svi_result.state)\n",
    "plt.plot(svi_result.losses)"
   ]
  },
  {
   "cell_type": "code",
   "execution_count": 75,
   "metadata": {},
   "outputs": [
    {
     "name": "stdout",
     "output_type": "stream",
     "text": [
      "\n",
      "                mean       std    median      5.5%     94.5%     n_eff     r_hat\n",
      "     CL[0]      0.14      0.00      0.14      0.14      0.14   1007.65      1.00\n",
      "     CL[1]      0.10      0.00      0.10      0.10      0.10    936.80      1.00\n",
      "     CL[2]      0.24      0.00      0.24      0.24      0.24    929.40      1.00\n",
      "     CL[3]      0.08      0.00      0.08      0.08      0.08    947.88      1.00\n",
      "     CL[4]      0.21      0.00      0.21      0.21      0.22    774.57      1.00\n",
      "    ETA[0]      0.49      0.00      0.49      0.49      0.49    958.03      1.00\n",
      "    ETA[1]      0.85      0.00      0.85      0.85      0.85      0.50      1.00\n",
      "     SIGMA      6.24      0.20      6.25      5.95      6.57   1037.34      1.00\n",
      "      TVCL      0.15      0.01      0.15      0.14      0.17    989.08      1.00\n",
      "      TVVC      9.14      3.69      9.71      3.15     14.28   1013.90      1.00\n",
      "     VC[0]      9.81      0.07      9.80      9.70      9.92    990.54      1.00\n",
      "     VC[1]     12.85      0.03     12.85     12.80     12.90    795.48      1.00\n",
      "     VC[2]      9.52      0.05      9.52      9.43      9.61    986.08      1.00\n",
      "     VC[3]      8.02      0.02      8.02      7.98      8.06    920.50      1.00\n",
      "     VC[4]      6.58      0.04      6.58      6.51      6.64    919.69      1.00\n",
      "\n"
     ]
    }
   ],
   "source": [
    "# summary of approximation\n",
    "samples = guide.sample_posterior(random.PRNGKey(123), svi_result.params, (1000,))\n",
    "numpyro.diagnostics.print_summary(samples, prob=0.89, group_by_chain=False)\n",
    "\n",
    "# TROUBLE SHOOTING: https://github.com/pyro-ppl/numpyro/issues/1309"
   ]
  }
 ],
 "metadata": {
  "kernelspec": {
   "display_name": "numpyro",
   "language": "python",
   "name": "python3"
  },
  "language_info": {
   "codemirror_mode": {
    "name": "ipython",
    "version": 3
   },
   "file_extension": ".py",
   "mimetype": "text/x-python",
   "name": "python",
   "nbconvert_exporter": "python",
   "pygments_lexer": "ipython3",
   "version": "3.10.5"
  }
 },
 "nbformat": 4,
 "nbformat_minor": 2
}
