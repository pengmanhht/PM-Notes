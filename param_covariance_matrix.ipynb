{
 "cells": [
  {
   "cell_type": "code",
   "execution_count": 37,
   "metadata": {},
   "outputs": [],
   "source": [
    "import jax.numpy as jnp \n",
    "from jax import grad, jit, vmap, jacfwd, hessian, random\n",
    "from jax.tree_util import tree_map\n",
    "from jax.flatten_util import ravel_pytree\n",
    "from jax.experimental.ode import odeint \n",
    "from jax.scipy.stats import norm\n",
    "import matplotlib.pyplot as plt"
   ]
  },
  {
   "cell_type": "code",
   "execution_count": 15,
   "metadata": {},
   "outputs": [
    {
     "data": {
      "text/plain": [
       "[<matplotlib.lines.Line2D at 0x160f30ac0>]"
      ]
     },
     "execution_count": 15,
     "metadata": {},
     "output_type": "execute_result"
    },
    {
     "data": {
      "image/png": "[encoded data removed]",
      "text/plain": [
       "<Figure size 432x288 with 1 Axes>"
      ]
     },
     "metadata": {
      "needs_background": "light"
     },
     "output_type": "display_data"
    }
   ],
   "source": [
    "# forward function\n",
    "def forward(params, x):\n",
    "    return params[1] * jnp.exp(params[0] * x)\n",
    "\n",
    "# simulation\n",
    "x = jnp.linspace(1., 2., 20)\n",
    "# {\"a\": 2.5, \"b\": 0.8}\n",
    "params_true = jnp.array([2.5, 0.8])\n",
    "noise = random.normal(key=random.PRNGKey(123), shape=(len(x),)) * 0.3\n",
    "y = forward(params=params_true, x=x) + noise\n",
    "\n",
    "plt.plot(x, y)"
   ]
  },
  {
   "cell_type": "markdown",
   "metadata": {},
   "source": [
    "### Levenberg-Marquardt Method\n",
    "Add a small constant ($\\lambda$) to the Hessian such that the Hessian remains positive definite\n",
    "\n",
    "$$\\theta_{i+1} = \\theta_{i} - [\\nabla^2 + \\lambda I]^{-1} \\nabla$$"
   ]
  },
  {
   "cell_type": "code",
   "execution_count": 49,
   "metadata": {},
   "outputs": [
    {
     "name": "stdout",
     "output_type": "stream",
     "text": [
      "Iter:        0 | Loss: 4.5198088339456e+16 | Update: [9.746571  1.0005866 2.0011725]\n",
      "Iter:      100 | Loss: 48.97931671142578 | Update: [ 2.3795934  0.9990412 -4.434036 ]\n",
      "Iter:      200 | Loss: 46.01655578613281 | Update: [ 2.489788   0.8157735 -3.965941 ]\n",
      "Iter:      300 | Loss: 43.128326416015625 | Update: [ 2.4937558  0.8098304 -3.428121 ]\n",
      "Iter:      400 | Loss: 39.065399169921875 | Update: [ 2.4937947  0.8097721 -2.7901664]\n",
      "Iter:      500 | Loss: 32.170284271240234 | Update: [ 2.493795   0.8097717 -1.9601597]\n",
      "Iter:      600 | Loss: 6.399808883666992 | Update: [ 2.4937952  0.8097714 -0.4101621]\n",
      "Iter:      700 | Loss: 4.199045181274414 | Update: [ 2.4937952   0.8097714  -0.29849976]\n",
      "Iter:      800 | Loss: 4.199045181274414 | Update: [ 2.4937952   0.8097714  -0.29849976]\n",
      "Iter:      900 | Loss: 4.199045181274414 | Update: [ 2.4937952   0.8097714  -0.29849976]\n"
     ]
    }
   ],
   "source": [
    "# MLE\n",
    "def neg_loglikelihood(params, x, y):\n",
    "    mu = params[1] * jnp.exp(params[0] * x)\n",
    "    sigma = params[2]\n",
    "    return - jnp.sum(norm.logpdf(y, loc=mu, scale=sigma))\n",
    "\n",
    "# {\"a\": 10., \"b\": 1., \"sigma\": 0.5}\n",
    "params = jnp.array([10. ,1., 2.])\n",
    "n_iter = 1000\n",
    "\n",
    "# Levenberg-Margquard Method\n",
    "for i in range(n_iter):\n",
    "    jacob = jacfwd(neg_loglikelihood, argnums=0)\n",
    "    jac   = jacob(params, x, y)\n",
    "    \n",
    "    hess  = hessian(neg_loglikelihood, argnums=0)\n",
    "    hes   = hess(params, x, y)\n",
    "    \n",
    "    cost = neg_loglikelihood(params, x, y)\n",
    "    \n",
    "    params -= jnp.linalg.inv(hes + 1e3*jnp.identity(hes.shape[0])) @ jac.T \n",
    "    \n",
    "    if i % (n_iter/10) == 0:\n",
    "        print(f\"Iter: {i:8} | Loss: {cost} | Update: {params}\")\n",
    "    "
   ]
  },
  {
   "cell_type": "markdown",
   "metadata": {},
   "source": [
    "### Error Variance (Mean Square Error)\n",
    "$$\\hat \\sigma^2 = MSE = \\frac{SSE}{n-p}=\\frac{\\Sigma(Y_i - \\hat Y_i)^2}{n-p}$$\n",
    "### Parameter Variance-Covariance Matrix\n",
    "$$Var(\\hat \\theta) = \\Sigma = \\hat \\sigma^2 \\times (J^TJ)^{-1}$$\n",
    "- J: Jacobian evaluated at $\\hat \\theta$\n",
    "- $\\Sigma$: p x p matrix whose diaonal elements are the variances of the parameter estimates\n",
    "- most softwares use this as the default variance estimator"
   ]
  },
  {
   "cell_type": "code",
   "execution_count": 50,
   "metadata": {},
   "outputs": [
    {
     "data": {
      "text/plain": [
       "DeviceArray([[ 4.5117554e-06, -6.6866919e-06,  1.2525055e-10],\n",
       "             [-6.6866919e-06,  1.0010970e-05, -2.4918179e-11],\n",
       "             [ 1.4362667e-10, -5.2093749e-11,  2.3350553e-04]],            dtype=float32)"
      ]
     },
     "execution_count": 50,
     "metadata": {},
     "output_type": "execute_result"
    }
   ],
   "source": [
    "# Error Variance\n",
    "cost = jnp.sum(jnp.square(forward(params, x) - y))\n",
    "MSE = cost / (len(x) - 3)\n",
    "# Covariance Matrix\n",
    "COV = MSE * jnp.linalg.inv(hes)\n",
    "\n",
    "COV"
   ]
  },
  {
   "cell_type": "code",
   "execution_count": 51,
   "metadata": {},
   "outputs": [
    {
     "data": {
      "text/plain": [
       "DeviceArray([[-4.3040429e-05,  6.3788495e-05, -1.1948426e-09],\n",
       "             [ 6.3788495e-05, -9.5500844e-05,  2.3770994e-10],\n",
       "             [-1.3701437e-09,  4.9695453e-10, -2.2275539e-03]],            dtype=float32)"
      ]
     },
     "execution_count": 51,
     "metadata": {},
     "output_type": "execute_result"
    }
   ],
   "source": [
    "# covariance can be approximated by the inverse of negative hessian matrix\n",
    "COV_h = jnp.linalg.inv(-hes)\n",
    "COV_h"
   ]
  }
 ],
 "metadata": {
  "kernelspec": {
   "display_name": "numpyro",
   "language": "python",
   "name": "python3"
  },
  "language_info": {
   "codemirror_mode": {
    "name": "ipython",
    "version": 3
   },
   "file_extension": ".py",
   "mimetype": "text/x-python",
   "name": "python",
   "nbconvert_exporter": "python",
   "pygments_lexer": "ipython3",
   "version": "3.10.5"
  }
 },
 "nbformat": 4,
 "nbformat_minor": 2
}
