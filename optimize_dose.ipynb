{
 "cells": [
  {
   "cell_type": "markdown",
   "metadata": {},
   "source": [
    "# Background\n",
    "\n",
    "In the field of experimental design, D-optimality is a criterion for selecting the most efficient design for a given model and set of experimental conditions. A D-optimal design minimizes the volume of the error ellipsoid or maximizes the Fisher information matrix, which represents the uncertainty in the estimated parameters of the model. D-optimal designs are particularly useful in situations where the model is highly nonlinear, or when there are a large number of parameters to be estimated. They can also be used to identify the most important factors in a model, or to optimize the performance of a system.\n",
    "\n",
    "In this project, D-optimal design will be applied to optimize the dose selection in a PK study, aiming to better understand the concepts involved in optimal design, such as Fisher information matrix and D-optimal criterion, by reproducing part of the [warfarin example](https://andrewhooker.github.io/PopED/articles/handling_LOQ.html) with python. This project is inspired by Prof. Andrew Hooker's *Optimal Design* lecture and [popED](https://github.com/andrewhooker/PopED), a R package computing optimal experimental designs based on nonlinear mixed-effect models. \n",
    "\n",
    "# Project Scenario\n",
    "\n",
    "**PK Model**: one compartment model\n",
    "\n",
    "**Parameters**:\n",
    "- KA: absorption constant\n",
    "- CL: clearance\n",
    "- V: volume of distribution\n",
    "- Omega: individual deviation from the parameter typical values ~ MultiNormal(0, Omega2)\n",
    "- Simga: Observation deviation from the population mean ~ Normal(0, Sigma2)\n",
    "\n",
    "(The project only focuses on the uncertaninty reduction of KA, CL, V)\n",
    "\n",
    "**Design**:\n",
    "- **Administration Route**: Oral\n",
    "- **Dosage Regimen**: 70 mg, single dose [**to be optimized**]\n",
    "- **Sampling Schedule**: 0.5, 3, 50, 120 minutes after dosing\n",
    "- **Subject Numbers**: 35\n",
    "\n",
    "**Project Goal**: find the most likely informative dose, where \"informative\" means less uncertainty in the parameter estimate\n",
    "\n",
    "# Libraries"
   ]
  },
  {
   "cell_type": "code",
   "execution_count": 2,
   "metadata": {},
   "outputs": [],
   "source": [
    "import jax.numpy as jnp\n",
    "from jax import jacfwd, hessian, random, jit, vmap\n",
    "from jax.scipy.stats import norm \n",
    "\n",
    "from scipy.optimize import minimize, Bounds\n",
    "import matplotlib.pyplot as plt"
   ]
  },
  {
   "cell_type": "markdown",
   "metadata": {},
   "source": [
    "# Data Simulation"
   ]
  },
  {
   "cell_type": "code",
   "execution_count": 113,
   "metadata": {},
   "outputs": [
    {
     "data": {
      "image/png": "[encoded data removed]",
      "text/plain": [
       "<Figure size 432x288 with 1 Axes>"
      ]
     },
     "metadata": {
      "needs_background": "light"
     },
     "output_type": "display_data"
    }
   ],
   "source": [
    "# random seed\n",
    "param_key, sigma_key = random.split(random.PRNGKey(125))\n",
    "\n",
    "# PK Model: one compartment model\n",
    "def forward(DOSE, params, time):\n",
    "    KA, CL, V = params[0], params[1], params[2]\n",
    "    return DOSE * KA/(V*(KA-CL/V))* (jnp.exp(-CL/V*time)- jnp.exp(-KA*time))\n",
    "\n",
    "# Design and Parameters\n",
    "N = 35\n",
    "xt = jnp.array([0.5, 3., 50., 120.])\n",
    "time = jnp.linspace(0, 120, 50)\n",
    "DOSE = jnp.array([70.])\n",
    "\n",
    "# KA, CL, V\n",
    "param_tv = jnp.array([1.0, 0.15, 8.])\n",
    "omega  = jnp.array([0.6, 0.02, 0.07])\n",
    "param_dev = random.normal(key=param_key, shape=(N, len(param_tv))) * omega\n",
    "params = jnp.abs(param_dev + param_tv)\n",
    "sigma  = jnp.array([0.25])\n",
    "\n",
    "# Simulation and Visualization\n",
    "conc = vmap(forward, in_axes=(None, 0, None))(DOSE, params, xt) + random.normal(key=sigma_key, shape=xt.shape) * sigma\n",
    "\n",
    "plt.plot(time, forward(DOSE, param_tv, time), ls=\"--\")\n",
    "for i in range(N):\n",
    "    plt.scatter(xt, conc[i], c=f\"C{i}\")"
   ]
  },
  {
   "cell_type": "markdown",
   "metadata": {},
   "source": [
    "# Fisher Information Matrix\n",
    "\n",
    "In the context of optimal design, the Fisher information matrix (FIM) is a crucial tool for assessing the efficiency of experimental designs. It provides a quantitative measure of how much information a particular design can provide about the unknown parameters of a statistical model.\n",
    "\n",
    "A D-optimal design maximizes the determinant of the FIM, or the log determinant of the FIM. This ensures that the parameter estimates are as precise as possible, given the constraints of the experimental setup. In this project, we will go with the *log determinant of FIM* and use it as the cost to be optimized (maximized).\n",
    "\n",
    "To calculate the FIM, we first need to define functions to calculate log-likelihood and Hessian matrix. This is becasue the second derivative of the log-likelihood evaluated at the the maximum likelihood estimates is the observed Fisher Information. \n",
    "\n",
    "When the negative log-likelihood is minimized, the returned Hessian is the equivalent of the observed Fisher information matrix whereas in the case that the log-likelihood is maximized, then the negative Hessian is the observed information matrix. \n",
    "\n",
    "By the way, the estimated standard error of the maximum likelihood estimates is given by the square root of the diagonal elements of the (observed) FIM.\n",
    "\n",
    "Let 𝑙(𝜃) be a log-likelihood function.\n",
    "\n",
    "$${FIM}(\\theta)=-\\frac{\\partial^{2}}{\\partial\\theta_{i}\\partial\\theta_{j}}l(\\theta),~~~~ 1\\leq i, j\\leq p$$\n",
    "\n",
    "\n",
    "$${Hessian}(\\theta)=\\frac{\\partial^{2}}{\\partial\\theta_{i}\\partial\\theta_{j}}l(\\theta),~~~~ 1\\leq i, j\\leq p$$\n",
    "\n",
    "\n",
    "$${SE}(\\hat{\\theta}_{\\mathrm{ML}})=\\frac{1}{\\sqrt{\\mathbf{I}(\\hat{\\theta}_{\\mathrm{ML}})}}$$\n",
    "\n",
    "Reference: [Basic question about Fisher Information matrix and relationship to Hessian and standard errors](https://stats.stackexchange.com/questions/68080/basic-question-about-fisher-information-matrix-and-relationship-to-hessian-and-s?rq=1)"
   ]
  },
  {
   "cell_type": "code",
   "execution_count": 4,
   "metadata": {},
   "outputs": [],
   "source": [
    "# define log-likelihood function\n",
    "@jit \n",
    "def LL(DOSE, params, time, conc, sigma):\n",
    "    mu = forward(DOSE, params, time)\n",
    "    return jnp.sum(norm.logpdf(conc, loc=mu, scale=sigma))\n",
    "\n",
    "# calculate fisher information matrix as negative hessian (assuming maximum the log-likelihood)\n",
    "@jit\n",
    "def fisher_info_mat(doses, params, time, conc, sigma):\n",
    "    hess = hessian(LL, argnums=(1))\n",
    "    hes  = hess(doses, params, time, conc, sigma)\n",
    "    return -hes\n",
    "\n",
    "# sum up individual FIM, then det(FIM) [similar to popED]\n",
    "@jit\n",
    "def FIM_det(doses, params, time, conc, sigma):\n",
    "    fim_tot = jnp.sum(vmap(fisher_info_mat, in_axes=(None, 0, None, None, None))(doses, params, time, conc, sigma), axis=0)\n",
    "    fim_det = jnp.linalg.det(fim_tot)\n",
    "    return jnp.where(fim_det<=0., 0, fim_det)\n",
    "\n",
    "# define objective function: maximize log(det(FIM))\n",
    "@jit\n",
    "def object_fn(DOSE, params, xt, conc, sigma):\n",
    "    return jnp.log(FIM_det(DOSE, params, xt, conc, sigma))\n",
    "\n",
    "# define mininum objective function: minimize netagive log(det(FIM)), \n",
    "# used as object_fn for scipy.optimize.minimize \n",
    "@jit\n",
    "def min_object_fn(DOSE, params, xt, conc, sigma):\n",
    "    return -jnp.log(FIM_det(DOSE, params, xt, conc, sigma))"
   ]
  },
  {
   "cell_type": "markdown",
   "metadata": {},
   "source": [
    "# Initial Design Evaluation"
   ]
  },
  {
   "cell_type": "code",
   "execution_count": 118,
   "metadata": {},
   "outputs": [
    {
     "name": "stdout",
     "output_type": "stream",
     "text": [
      "OFV: 42.590\n",
      "\n",
      "FIM:\n",
      "[[10482619.     -178677.86    -34131.797]\n",
      " [ -178677.19  12432606.       28901.316]\n",
      " [  -34131.773    28901.312    24255.68 ]]\n",
      "\n",
      "RSE(%):\n",
      "[0.03095952 0.18934852 0.08055297]\n"
     ]
    }
   ],
   "source": [
    "# initial OFV\n",
    "ofv_init = object_fn(DOSE, params, xt, conc, sigma)\n",
    "\n",
    "# # initial FIM\n",
    "fim_tot = jnp.sum(vmap(fisher_info_mat, in_axes=(None, 0, None, None, None))(DOSE, params, xt, conc, sigma), axis=0)\n",
    "\n",
    "# initial RSE (relative standard error)\n",
    "fim_inv = jnp.linalg.inv(fim_tot)\n",
    "rse_init = jnp.sqrt(jnp.diag(fim_inv)) / param_tv * 100\n",
    "\n",
    "print(f\"\"\"OFV: {ofv_init:.3f}\\n\n",
    "FIM:\\n{fim_tot}\\n\n",
    "RSE(%):\\n{rse_init}\"\"\")"
   ]
  },
  {
   "cell_type": "markdown",
   "metadata": {},
   "source": [
    "# Optimizing Dosing Regimen\n",
    "## scipy.optimize.minimize (bounded optimization available)"
   ]
  },
  {
   "cell_type": "code",
   "execution_count": 129,
   "metadata": {},
   "outputs": [
    {
     "name": "stdout",
     "output_type": "stream",
     "text": [
      "OFV:\n",
      "44.099\n",
      "\n",
      "Optimized Dose Selection: \n",
      "[104.50098]\n"
     ]
    }
   ],
   "source": [
    "DOSE = jnp.array([70.])\n",
    "\n",
    "res = minimize(min_object_fn, x0 = DOSE, args=(params, xt, conc, sigma), \n",
    "         method='Nelder-Mead')\n",
    "ofv_final = res.fun\n",
    "DOSE_final = res.x\n",
    "print(f\"\"\"OFV:\n",
    "{-ofv_final:.3f}\\n\n",
    "Optimized Dose Selection: \n",
    "{res.x}\"\"\")"
   ]
  },
  {
   "cell_type": "markdown",
   "metadata": {},
   "source": [
    "## Gradient Descent"
   ]
  },
  {
   "cell_type": "code",
   "execution_count": 136,
   "metadata": {},
   "outputs": [
    {
     "name": "stdout",
     "output_type": "stream",
     "text": [
      "Iter:        0 | FIM: 42.5899543762207 | Update: [70.08309]\n",
      "Iter:      500 | FIM: 43.95252990722656 | Update: [95.026535]\n",
      "Iter:     1000 | FIM: 44.09292984008789 | Update: [102.781]\n",
      "Iter:     1500 | FIM: 44.09861373901367 | Update: [104.2686]\n",
      "Iter:     2000 | FIM: 44.098731994628906 | Update: [104.480835]\n",
      "Iter:     2500 | FIM: 44.09873962402344 | Update: [104.50921]\n",
      "Iter:     3000 | FIM: 44.09873580932617 | Update: [104.5126]\n",
      "Iter:     3500 | FIM: 44.09873580932617 | Update: [104.5126]\n",
      "Iter:     4000 | FIM: 44.09873580932617 | Update: [104.5126]\n",
      "Iter:     4500 | FIM: 44.09873580932617 | Update: [104.5126]\n"
     ]
    },
    {
     "data": {
      "text/plain": [
       "Text(0, 0.5, 'OFV')"
      ]
     },
     "execution_count": 136,
     "metadata": {},
     "output_type": "execute_result"
    },
    {
     "data": {
      "image/png": "[encoded data removed]",
      "text/plain": [
       "<Figure size 720x288 with 2 Axes>"
      ]
     },
     "metadata": {
      "needs_background": "light"
     },
     "output_type": "display_data"
    }
   ],
   "source": [
    "DOSE = jnp.array([70.])\n",
    "log_FIM_det = []\n",
    "doses = []\n",
    "\n",
    "n_iter = 5000\n",
    "for i in range(n_iter):\n",
    "    gd_fn = jacfwd(object_fn, argnums=0)\n",
    "    gd    = gd_fn(DOSE, params, xt, conc, sigma)\n",
    "    \n",
    "    ofv = object_fn(DOSE, params, xt, conc, sigma)\n",
    "    doses.append(DOSE)\n",
    "    log_FIM_det.append(ofv)\n",
    "    DOSE += 1 * gd\n",
    "    \n",
    "    if i % (n_iter/10) == 0:\n",
    "        print(f\"Iter: {i:8} | FIM: {ofv} | Update: {DOSE}\")\n",
    "\n",
    "DOSE_final = DOSE\n",
    "\n",
    "plt.figure(figsize=(10,4))\n",
    "plt.subplot(121)\n",
    "plt.plot(doses, log_FIM_det, lw=3)\n",
    "plt.xlabel(\"Updated Dose (mg)\")\n",
    "plt.ylabel(\"OFV\")\n",
    "\n",
    "plt.subplot(122)\n",
    "plt.plot(jnp.linspace(0,n_iter,n_iter), log_FIM_det, lw=3, c=\"C1\")\n",
    "plt.xlabel(\"Iteration\")\n",
    "plt.ylabel(\"OFV\")"
   ]
  },
  {
   "cell_type": "markdown",
   "metadata": {},
   "source": [
    "## LM-Algorithm"
   ]
  },
  {
   "cell_type": "code",
   "execution_count": 137,
   "metadata": {},
   "outputs": [
    {
     "name": "stdout",
     "output_type": "stream",
     "text": [
      "Iter:        0 | FIM: 42.5899543762207 | Update: [70.85511]\n",
      "Iter:      100 | FIM: 44.094234466552734 | Update: [103.04619]\n",
      "Iter:      200 | FIM: 44.09873580932617 | Update: [104.49213]\n",
      "Iter:      300 | FIM: 44.09873580932617 | Update: [104.51328]\n",
      "Iter:      400 | FIM: 44.09873580932617 | Update: [104.51347]\n",
      "Iter:      500 | FIM: 44.09873580932617 | Update: [104.51347]\n",
      "Iter:      600 | FIM: 44.09873580932617 | Update: [104.51347]\n",
      "Iter:      700 | FIM: 44.09873580932617 | Update: [104.51347]\n",
      "Iter:      800 | FIM: 44.09873580932617 | Update: [104.51347]\n",
      "Iter:      900 | FIM: 44.09873580932617 | Update: [104.51347]\n"
     ]
    },
    {
     "data": {
      "text/plain": [
       "Text(0, 0.5, 'OFV')"
      ]
     },
     "execution_count": 137,
     "metadata": {},
     "output_type": "execute_result"
    },
    {
     "data": {
      "image/png": "[encoded data removed]",
      "text/plain": [
       "<Figure size 720x288 with 2 Axes>"
      ]
     },
     "metadata": {
      "needs_background": "light"
     },
     "output_type": "display_data"
    }
   ],
   "source": [
    "DOSE = jnp.array([70.])\n",
    "n_iter = 1000\n",
    "\n",
    "log_FIM_det = []\n",
    "doses = []\n",
    "\n",
    "for i in range(n_iter):\n",
    "    jacob = jacfwd(object_fn, argnums=0)\n",
    "    jac   = jacob(DOSE, params, xt, conc, sigma)\n",
    "    \n",
    "    hess  = hessian(object_fn, argnums=0)\n",
    "    hes   = hess(DOSE, params, xt, conc, sigma)\n",
    "    \n",
    "    FIM   = object_fn(DOSE, params, xt, conc, sigma)\n",
    "    doses.append(DOSE)\n",
    "    log_FIM_det.append(FIM)\n",
    "    \n",
    "    DOSE += jnp.linalg.inv(hes + 0.1 * jnp.identity(hes.shape[0])) @ jac.T \n",
    "    \n",
    "    if i % (n_iter/10) == 0:\n",
    "        print(f\"Iter: {i:8} | FIM: {FIM} | Update: {DOSE}\")\n",
    "\n",
    "DOSE_final = DOSE\n",
    "\n",
    "plt.figure(figsize=(10,4))\n",
    "plt.subplot(121)\n",
    "plt.plot(doses, log_FIM_det, lw=3)\n",
    "plt.xlabel(\"Updated Dose (mg)\")\n",
    "plt.ylabel(\"OFV\")\n",
    "\n",
    "plt.subplot(122)\n",
    "plt.plot(jnp.linspace(0,n_iter,n_iter), log_FIM_det, lw=3, c=\"C1\")\n",
    "plt.xlabel(\"Iteration\")\n",
    "plt.ylabel(\"OFV\")"
   ]
  },
  {
   "cell_type": "markdown",
   "metadata": {},
   "source": [
    "# Optimized Design Evaluation"
   ]
  },
  {
   "cell_type": "code",
   "execution_count": 147,
   "metadata": {},
   "outputs": [
    {
     "name": "stdout",
     "output_type": "stream",
     "text": [
      "Initial Design Eveluation\n",
      "OFV: 42.590\n",
      "\n",
      "FIM (KA | CL | V):\n",
      "[[10482619.     -178677.86    -34131.797]\n",
      " [ -178677.19  12432606.       28901.316]\n",
      " [  -34131.773    28901.312    24255.68 ]]\n",
      "\n",
      "RSE (%):\n",
      "[0.03095952 0.18934852 0.08055297]\n",
      "\n",
      "Initial Dose Selection: [104.51347]\n",
      "==============================\n",
      "Optimized Design Eveluation\n",
      "\n",
      "OFV: 44.099\n",
      "\n",
      "FIM (KA | CL | V):\n",
      "[[ 5525269.5  -1682636.2   -142155.28]\n",
      " [-1682633.5  37870656.     256935.81]\n",
      " [ -142155.25   256935.78    73601.69]]\n",
      "\n",
      "RSE (%):\n",
      "[0.04379969 0.11003788 0.04768267]\n",
      "\n",
      "Optimized Dose Selection: [104.50098]\n",
      "\n",
      "Efficiency: 1.352\n",
      "==============================\n"
     ]
    }
   ],
   "source": [
    "# initial Design Evaluation\n",
    "print(\"Initial Design Evaluation\")\n",
    "\n",
    "print(f\"\"\"OFV: {ofv_init:.3f}\\n\n",
    "FIM (KA | CL | V):\\n{fim_tot}\\n\n",
    "RSE (%):\\n{rse_init}\\n\n",
    "Initial Dose Selection: {DOSE}\"\"\")\n",
    "\n",
    "print(\"=\"*30)\n",
    "\n",
    "# final Design Evaluation\n",
    "# final OFV and Efficiency [exp(ofv_final) / exp(ofv_init)]**(1/n_params)\n",
    "ofv_final = object_fn(DOSE_final, params, xt, conc, sigma)\n",
    "eff = (jnp.exp(ofv_final) / jnp.exp(ofv_init))**(1/5)\n",
    "\n",
    "# final FIM\n",
    "fim_tot_final = jnp.sum(vmap(fisher_info_mat, in_axes=(None, 0, None, None, None))(DOSE_final, params, xt, conc, sigma), axis=0)\n",
    "\n",
    "# final RSE (relative standard error)\n",
    "fim_inv_final = jnp.linalg.inv(fim_tot_final)\n",
    "rse_final = jnp.sqrt(jnp.diag(fim_inv_final)) / param_tv * 100\n",
    "\n",
    "print(\"Optimized Design Evaluation\")\n",
    "print(f\"\"\"\n",
    "OFV: {ofv_final:.3f}\\n\n",
    "FIM (KA | CL | V):\\n{fim_tot_final}\\n\n",
    "RSE (%):\\n{rse_final}\\n\n",
    "Optimized Dose Selection: {DOSE_final}\\n\n",
    "Efficiency: {eff:.3f}\"\"\")\n",
    "\n",
    "print(\"=\"*30)"
   ]
  }
 ],
 "metadata": {
  "kernelspec": {
   "display_name": "numpyro",
   "language": "python",
   "name": "python3"
  },
  "language_info": {
   "codemirror_mode": {
    "name": "ipython",
    "version": 3
   },
   "file_extension": ".py",
   "mimetype": "text/x-python",
   "name": "python",
   "nbconvert_exporter": "python",
   "pygments_lexer": "ipython3",
   "version": "3.12.0"
  }
 },
 "nbformat": 4,
 "nbformat_minor": 2
}
