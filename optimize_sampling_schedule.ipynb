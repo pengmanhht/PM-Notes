{
 "cells": [
  {
   "cell_type": "markdown",
   "metadata": {},
   "source": [
    "# Background\n",
    "\n",
    "In the field of experimental design, D-optimality is a criterion for selecting the most efficient design for a given model and set of experimental conditions. A D-optimal design minimizes the volume of the error ellipsoid or maximizes the Fisher information matrix, which represents the uncertainty in the estimated parameters of the model. D-optimal designs are particularly useful in situations where the model is highly nonlinear, or when there are a large number of parameters to be estimated. They can also be used to identify the most important factors in a model, or to optimize the performance of a system.\n",
    "\n",
    "In this project, D-optimal design will be applied to optimize the sampling schedule in a PK study, aiming to better understand the concepts involved in optimal design, such as Fisher information matrix and D-optimal criterion, by reproducing part of the [warfarin example](https://andrewhooker.github.io/PopED/articles/handling_LOQ.html) with python. This project is inspired by Prof. Andrew Hooker's *Optimal Design* lecture and [popED](https://github.com/andrewhooker/PopED), a R package computing optimal experimental designs based on nonlinear mixed-effect models. \n",
    "\n",
    "# Project Scenario\n",
    "\n",
    "**PK Model**: one compartment model\n",
    "\n",
    "**Parameters**:\n",
    "- KA: absorption constant\n",
    "- CL: clearance\n",
    "- V: volume of distribution\n",
    "- Omega: individual deviation from the parameter typical values ~ MultiNormal(0, Omega2)\n",
    "- Simga: Observation deviation from the population mean ~ Normal(0, Sigma2)\n",
    "\n",
    "(The project only focuses on the uncertaninty reduction of KA, CL, V)\n",
    "\n",
    "**Design**:\n",
    "- **Administration Route**: Oral\n",
    "- **Dosage Regimen**: 70 mg, single dose\n",
    "- **Sampling Schedule**: 0.5, 3, 50, 120 minutes after dosing [**to be optimized**]\n",
    "- **Subject Numbers**: 35\n",
    "\n",
    "**Project Goal**: find the most informative sampling schedule, where \"informative\" means less uncertainty in the parameter estimate\n",
    "\n",
    "# Libraries"
   ]
  },
  {
   "cell_type": "code",
   "execution_count": 93,
   "metadata": {},
   "outputs": [],
   "source": [
    "import jax.numpy as jnp\n",
    "from jax import jacfwd, hessian, random, jit, vmap\n",
    "from jax.scipy.stats import norm \n",
    "from scipy.optimize import minimize, Bounds\n",
    "\n",
    "import matplotlib.pyplot as plt"
   ]
  },
  {
   "cell_type": "markdown",
   "metadata": {},
   "source": [
    "# Data Simulation"
   ]
  },
  {
   "cell_type": "code",
   "execution_count": 115,
   "metadata": {},
   "outputs": [
    {
     "data": {
      "image/png": "[encoded data removed]",
      "text/plain": [
       "<Figure size 432x288 with 1 Axes>"
      ]
     },
     "metadata": {
      "needs_background": "light"
     },
     "output_type": "display_data"
    }
   ],
   "source": [
    "# random seed\n",
    "param_key, sigma_key = random.split(random.PRNGKey(105))\n",
    "\n",
    "# PK Model: one compartment model\n",
    "def forward(DOSE, params, time):\n",
    "    KA, CL, V = params[0], params[1], params[2]\n",
    "    return DOSE * KA/(V*(KA-CL/V))* (jnp.exp(-CL/V*time)- jnp.exp(-KA*time))\n",
    "\n",
    "# Design and Parameters\n",
    "N = 35\n",
    "# xt = jnp.array([0.5, 3., 50., 120.])\n",
    "xt_init = jnp.array([0.5, 3., 50., 120.])\n",
    "time = jnp.linspace(0, 120, 50)\n",
    "DOSE = jnp.array([70.])\n",
    "\n",
    "# KA, CL, V\n",
    "param_tv = jnp.array([1.0, 0.15, 8.])\n",
    "omega  = jnp.array([0.6, 0.02, 0.07])\n",
    "param_dev = random.normal(key=param_key, shape=(N, len(param_tv))) * omega\n",
    "params = jnp.abs(param_dev + param_tv)\n",
    "sigma  = jnp.array([0.25])\n",
    "\n",
    "# Simulation and Visualization\n",
    "conc = vmap(forward, in_axes=(None, 0, None))(DOSE, params, xt_init) + random.normal(key=sigma_key, shape=xt_init.shape) * sigma\n",
    "\n",
    "plt.plot(time, forward(DOSE, param_tv, time), ls=\"--\")\n",
    "for i in range(N):\n",
    "    plt.scatter(xt_init, conc[i], c=f\"C{i}\")"
   ]
  },
  {
   "cell_type": "markdown",
   "metadata": {},
   "source": [
    "# Fisher Information Matrix\n",
    "\n",
    "In the context of optimal design, the Fisher information matrix (FIM) is a crucial tool for assessing the efficiency of experimental designs. It provides a quantitative measure of how much information a particular design can provide about the unknown parameters of a statistical model.\n",
    "\n",
    "A D-optimal design maximizes the determinant of the FIM, or the log determinant of the FIM. This ensures that the parameter estimates are as precise as possible, given the constraints of the experimental setup. In this project, we will go with the *log determinant of FIM* and use it as the cost to be optimized (maximized).\n",
    "\n",
    "To calculate the FIM, we first need to define functions to calculate log-likelihood and Hessian matrix. This is becasue the second derivative of the log-likelihood evaluated at the the maximum likelihood estimates is the observed Fisher Information. \n",
    "\n",
    "When the negative log-likelihood is minimized, the returned Hessian is the equivalent of the observed Fisher information matrix whereas in the case that the log-likelihood is maximized, then the negative Hessian is the observed information matrix. \n",
    "\n",
    "By the way, the estimated standard error of the maximum likelihood estimates is given by the square root of the diagonal elements of the (observed) FIM.\n",
    "\n",
    "Let 𝑙(𝜃) be a log-likelihood function.\n",
    "\n",
    "$${FIM}(\\theta)=-\\frac{\\partial^{2}}{\\partial\\theta_{i}\\partial\\theta_{j}}l(\\theta),~~~~ 1\\leq i, j\\leq p$$\n",
    "\n",
    "\n",
    "$${Hessian}(\\theta)=\\frac{\\partial^{2}}{\\partial\\theta_{i}\\partial\\theta_{j}}l(\\theta),~~~~ 1\\leq i, j\\leq p$$\n",
    "\n",
    "\n",
    "$${SE}(\\hat{\\theta}_{\\mathrm{ML}})=\\frac{1}{\\sqrt{\\mathbf{I}(\\hat{\\theta}_{\\mathrm{ML}})}}$$\n",
    "\n",
    "Reference: [Basic question about Fisher Information matrix and relationship to Hessian and standard errors](https://stats.stackexchange.com/questions/68080/basic-question-about-fisher-information-matrix-and-relationship-to-hessian-and-s?rq=1)"
   ]
  },
  {
   "cell_type": "code",
   "execution_count": 116,
   "metadata": {},
   "outputs": [],
   "source": [
    "# define log-likelihood function\n",
    "@jit \n",
    "def LL(DOSE, params, time, conc, sigma):\n",
    "    mu = forward(DOSE, params, time)\n",
    "    return jnp.sum(norm.logpdf(conc, loc=mu, scale=sigma))\n",
    "\n",
    "# calculate fisher information matrix as negative hessian (assuming maximum the log-likelihood)\n",
    "@jit\n",
    "def fisher_info_mat(doses, params, time, conc, sigma):\n",
    "    hess = hessian(LL, argnums=(1))\n",
    "    hes  = hess(doses, params, time, conc, sigma)\n",
    "    return -hes\n",
    "\n",
    "# sum up individual FIM, then det(FIM) [similar to popED]\n",
    "@jit\n",
    "def FIM_det(doses, params, time, conc, sigma):\n",
    "    fim_tot = jnp.sum(vmap(fisher_info_mat, in_axes=(None, 0, None, None, None))(doses, params, time, conc, sigma), axis=0)\n",
    "    fim_det = jnp.linalg.det(fim_tot)\n",
    "    return jnp.where(fim_det<=0., 0, fim_det)\n",
    "\n",
    "# define objective function: maximize log(det(FIM))\n",
    "@jit\n",
    "def object_fn(xt, DOSE, params, conc, sigma):\n",
    "    # log(det(FIM))\n",
    "    return jnp.log(FIM_det(DOSE, params, xt, conc, sigma))\n",
    "\n",
    "# define mininum objective function: minimize netagive log(det(FIM)), \n",
    "# used as object_fn for scipy.optimize.minimize \n",
    "@jit\n",
    "def min_object_fn(xt, DOSE, params, conc, sigma):\n",
    "    return -jnp.log(FIM_det(DOSE, params, xt, conc, sigma))\n"
   ]
  },
  {
   "cell_type": "markdown",
   "metadata": {},
   "source": [
    "# Initial Design Evaluation"
   ]
  },
  {
   "cell_type": "code",
   "execution_count": 117,
   "metadata": {},
   "outputs": [
    {
     "name": "stdout",
     "output_type": "stream",
     "text": [
      "OFV: 39.925\n",
      "\n",
      "FIM:\n",
      "[[  828857.2      62263.344   -34460.977]\n",
      " [   62263.31  12648524.       37739.27 ]\n",
      " [  -34460.98     37739.26     22405.594]]\n",
      "\n",
      "RSE(%):\n",
      "[0.11361405 0.1880637  0.08657996]\n"
     ]
    }
   ],
   "source": [
    "# initial OFV\n",
    "ofv_init = object_fn(xt_init, DOSE, params, conc, sigma)\n",
    "\n",
    "# # initial FIM\n",
    "fim_tot = jnp.sum(vmap(fisher_info_mat, in_axes=(None, 0, None, None, None))(DOSE, params, xt_init, conc, sigma), axis=0)\n",
    "\n",
    "# initial RSE (relative standard error)\n",
    "fim_inv = jnp.linalg.inv(fim_tot)\n",
    "rse_init = jnp.sqrt(jnp.diag(fim_inv)) / param_tv * 100\n",
    "\n",
    "print(f\"\"\"OFV: {ofv_init:.3f}\\n\n",
    "FIM:\\n{fim_tot}\\n\n",
    "RSE(%):\\n{rse_init}\"\"\")"
   ]
  },
  {
   "cell_type": "markdown",
   "metadata": {},
   "source": [
    "# Optimizing Sampling Schedule\n",
    "## scipy.optimize.minimize (bounded optimization available)"
   ]
  },
  {
   "cell_type": "code",
   "execution_count": 118,
   "metadata": {},
   "outputs": [
    {
     "name": "stdout",
     "output_type": "stream",
     "text": [
      "Optimization terminated successfully.\n",
      "OFV:\n",
      "41.421\n",
      "\n",
      "Optimized Sampling Schedule: \n",
      "[ 2.8645604  3.61311   44.975986  53.26738  ]\n"
     ]
    }
   ],
   "source": [
    "xt = jnp.array([0.5, 3., 50., 120.])\n",
    "\n",
    "res = minimize(min_object_fn, x0 = xt, args=(DOSE, params, conc, sigma), \n",
    "         method='Nelder-Mead')\n",
    "ofv_final = res.fun\n",
    "xt_final = res.x\n",
    "\n",
    "print(res.message)\n",
    "print(f\"\"\"OFV:\n",
    "{-ofv_final:.3f}\\n\n",
    "Optimized Sampling Schedule: \n",
    "{res.x}\"\"\")"
   ]
  },
  {
   "cell_type": "markdown",
   "metadata": {},
   "source": [
    "## Gradient Descent"
   ]
  },
  {
   "cell_type": "code",
   "execution_count": 119,
   "metadata": {},
   "outputs": [
    {
     "name": "stdout",
     "output_type": "stream",
     "text": [
      "Iter:        0 | FIM: 39.925315856933594 | Update: [  6.531349    3.5494075  49.953865  119.941284 ]\n",
      "Iter:     1000 | FIM: 41.366790771484375 | Update: [ 2.8836377  3.6469357 42.991207  67.39735  ]\n",
      "Iter:     2000 | FIM: 41.42048263549805 | Update: [ 2.8677685  3.615566  44.737244  53.96385  ]\n",
      "Iter:     3000 | FIM: 41.420684814453125 | Update: [ 2.8667734  3.6140058 45.01788   53.25873  ]\n",
      "Iter:     4000 | FIM: 41.420684814453125 | Update: [ 2.8667438  3.6139576 45.032665  53.231373 ]\n"
     ]
    },
    {
     "data": {
      "text/plain": [
       "Text(0, 0.5, 'OFV')"
      ]
     },
     "execution_count": 119,
     "metadata": {},
     "output_type": "execute_result"
    },
    {
     "data": {
      "image/png": "[encoded data removed]",
      "text/plain": [
       "<Figure size 432x288 with 1 Axes>"
      ]
     },
     "metadata": {
      "needs_background": "light"
     },
     "output_type": "display_data"
    }
   ],
   "source": [
    "xt = jnp.array([0.5, 3., 50., 120.])\n",
    "log_FIM_det = []\n",
    "\n",
    "n_iter = 5000\n",
    "for i in range(n_iter):\n",
    "    gd_fn = jacfwd(object_fn, argnums=0)\n",
    "    gd    = gd_fn(xt, DOSE, params, conc, sigma)\n",
    "    \n",
    "    ofv = object_fn(xt, DOSE, params, conc, sigma)\n",
    "    log_FIM_det.append(ofv)\n",
    "    \n",
    "    xt += 5 * gd\n",
    "    \n",
    "    if i % (n_iter/5) == 0:\n",
    "        print(f\"Iter: {i:8} | FIM: {ofv} | Update: {xt}\")\n",
    "\n",
    "xt_final = xt\n",
    "\n",
    "plt.plot(jnp.linspace(0,n_iter,n_iter), log_FIM_det, lw=3, c=\"C1\")\n",
    "plt.xlabel(\"Iteration\")\n",
    "plt.ylabel(\"OFV\")"
   ]
  },
  {
   "cell_type": "markdown",
   "metadata": {},
   "source": [
    "## LM-Algorithm"
   ]
  },
  {
   "cell_type": "code",
   "execution_count": 122,
   "metadata": {},
   "outputs": [
    {
     "name": "stdout",
     "output_type": "stream",
     "text": [
      "Iter:     0 | FIM: 39.925315856933594 | Update: [  0.64068604   3.011707    49.99912    119.998825  ]\n",
      "Iter:   100 | FIM: 40.75824737548828 | Update: [  2.586905    3.4892251  49.900597  119.8803   ]\n",
      "Iter:   200 | FIM: 40.769874572753906 | Update: [  2.8320193   3.6258445  49.80813   119.761284 ]\n",
      "Iter:   300 | FIM: 40.772705078125 | Update: [  2.8843684   3.675363   49.718     119.641815 ]\n",
      "Iter:   400 | FIM: 40.77497863769531 | Update: [  2.8960078   3.6942384  49.629288  119.52203  ]\n",
      "Iter:   500 | FIM: 40.777183532714844 | Update: [  2.8984115   3.7014558  49.541744  119.40225  ]\n",
      "Iter:   600 | FIM: 40.779361724853516 | Update: [  2.8987138   3.704097   49.45529   119.28247  ]\n",
      "Iter:   700 | FIM: 40.781524658203125 | Update: [  2.8985498   3.7049205  49.369892  119.16269  ]\n",
      "Iter:   800 | FIM: 40.783668518066406 | Update: [  2.8982925   3.7050178  49.28556   119.04291  ]\n",
      "Iter:   900 | FIM: 40.78579330444336 | Update: [  2.8980165   3.7048268  49.202255  118.92313  ]\n"
     ]
    },
    {
     "data": {
      "text/plain": [
       "Text(0, 0.5, 'OFV')"
      ]
     },
     "execution_count": 122,
     "metadata": {},
     "output_type": "execute_result"
    },
    {
     "data": {
      "image/png": "[encoded data removed]",
      "text/plain": [
       "<Figure size 432x288 with 1 Axes>"
      ]
     },
     "metadata": {
      "needs_background": "light"
     },
     "output_type": "display_data"
    }
   ],
   "source": [
    "xt = jnp.array([0.5, 3., 50., 120.])\n",
    "log_FIM_det = []\n",
    "\n",
    "n_iter = 1000\n",
    "for i in range(n_iter):\n",
    "    jacob = jacfwd(object_fn, argnums=0)\n",
    "    jac   = jacob(xt, DOSE, params, conc, sigma)\n",
    "    \n",
    "    hess  = hessian(object_fn, argnums=0)\n",
    "    hes   = hess(xt, DOSE, params, conc, sigma)\n",
    "    \n",
    "    FIM   = object_fn(xt, DOSE, params, conc, sigma)\n",
    "\n",
    "    log_FIM_det.append(FIM)\n",
    "    \n",
    "    xt += jnp.linalg.inv(hes + 10 * jnp.identity(hes.shape[0])) @ jac.T \n",
    "    \n",
    "    if i % (n_iter/10) == 0:\n",
    "        print(f\"Iter: {i:5} | FIM: {FIM} | Update: {xt}\")\n",
    "\n",
    "xt_final = xt\n",
    "\n",
    "plt.plot(jnp.linspace(0,n_iter,n_iter), log_FIM_det, lw=3, c=\"C1\")\n",
    "plt.xlabel(\"Iteration\")\n",
    "plt.ylabel(\"OFV\")"
   ]
  },
  {
   "cell_type": "code",
   "execution_count": 131,
   "metadata": {},
   "outputs": [
    {
     "data": {
      "text/plain": [
       "Text(0.5, 1.0, 'Optimized Design')"
      ]
     },
     "execution_count": 131,
     "metadata": {},
     "output_type": "execute_result"
    },
    {
     "data": {
      "image/png": "[encoded data removed]",
      "text/plain": [
       "<Figure size 720x288 with 2 Axes>"
      ]
     },
     "metadata": {
      "needs_background": "light"
     },
     "output_type": "display_data"
    }
   ],
   "source": [
    "plt.figure(figsize=(10,4))\n",
    "plt.subplot(121)\n",
    "\n",
    "plt.plot(time, forward(DOSE, param_tv, time), ls=\"--\", lw=3)\n",
    "# conc = vmap(forward, in_axes=(None, 0, None))(DOSE, params, xt_init) + random.normal(key=random.PRNGKey(123), shape=xt_init.shape) * sigma\n",
    "# for i in range(N):\n",
    "#     plt.scatter(xt_init, conc[i], c=f\"C{i}\")\n",
    "plt.scatter(xt_init, forward(DOSE, param_tv, xt_init), c=\"C1\", s=100)\n",
    "plt.xlabel(\"Time (min)\")\n",
    "plt.ylabel(\"Drug Concentration\")\n",
    "plt.title(\"Initial Design\", weight=\"bold\")\n",
    "\n",
    "plt.subplot(122)\n",
    "plt.plot(time, forward(DOSE, param_tv, time), ls=\"--\", lw=3)\n",
    "# conc = vmap(forward, in_axes=(None, 0, None))(DOSE, params, xt_final) + random.normal(key=random.PRNGKey(321), shape=xt_final.shape) * sigma\n",
    "# for i in range(N):\n",
    "    # plt.scatter(xt_final, conc[i], c=f\"C{i}\")\n",
    "plt.scatter(xt_final, forward(DOSE, param_tv, xt_final), c=\"C3\", s=100)\n",
    "plt.xlabel(\"Time (min)\")\n",
    "plt.title(\"Optimized Design\", weight=\"bold\")"
   ]
  },
  {
   "cell_type": "code",
   "execution_count": 128,
   "metadata": {},
   "outputs": [
    {
     "name": "stdout",
     "output_type": "stream",
     "text": [
      "Initial Design Evaluation\n",
      "OFV: 39.925\n",
      "\n",
      "FIM (KA | CL | V):\n",
      "[[  828857.2      62263.344   -34460.977]\n",
      " [   62263.31  12648524.       37739.27 ]\n",
      " [  -34460.98     37739.26     22405.594]]\n",
      "\n",
      "RSE (%):\n",
      "[0.11361405 0.1880637  0.08657996]\n",
      "\n",
      "Initial Sampling Schedule: [  0.5   3.   50.  120. ]\n",
      "==============================\n",
      "Optimized Design Evaluation\n",
      "\n",
      "OFV: 40.916\n",
      "\n",
      "FIM (KA | CL | V):\n",
      "[[ 1325881.1      33081.996   -34159.133]\n",
      " [   33081.938 13040412.       65421.414]\n",
      " [  -34159.137    65421.41     35251.945]]\n",
      "\n",
      "RSE (%):\n",
      "[0.08797485 0.1855305  0.06775585]\n",
      "\n",
      "Optimized Sampling Schedule: [  2.8977482   3.7045248  49.12077   118.80454  ]\n",
      "\n",
      "Efficiency: 1.219\n",
      "==============================\n"
     ]
    }
   ],
   "source": [
    "# initial Design Evaluation\n",
    "print(\"Initial Design Evaluation\")\n",
    "\n",
    "print(f\"\"\"OFV: {ofv_init:.3f}\\n\n",
    "FIM (KA | CL | V):\\n{fim_tot}\\n\n",
    "RSE (%):\\n{rse_init}\\n\n",
    "Initial Sampling Schedule: {xt_init}\"\"\")\n",
    "\n",
    "print(\"=\"*30)\n",
    "\n",
    "# final Design Evaluation\n",
    "# final OFV and Efficiency [exp(ofv_final) / exp(ofv_init)]**(1/n_params)\n",
    "ofv_final = object_fn(xt_final, DOSE, params, conc, sigma)\n",
    "eff = (jnp.exp(ofv_final) / jnp.exp(ofv_init))**(1/5)\n",
    "\n",
    "# final FIM\n",
    "fim_tot_final = jnp.sum(vmap(fisher_info_mat, in_axes=(None, 0, None, None, None))(DOSE, params, xt_final, conc, sigma), axis=0)\n",
    "\n",
    "# final RSE (relative standard error)\n",
    "fim_inv_final = jnp.linalg.inv(fim_tot_final)\n",
    "rse_final = jnp.sqrt(jnp.diag(fim_inv_final)) / param_tv * 100\n",
    "\n",
    "print(\"Optimized Design Evaluation\")\n",
    "print(f\"\"\"\n",
    "OFV: {ofv_final:.3f}\\n\n",
    "FIM (KA | CL | V):\\n{fim_tot_final}\\n\n",
    "RSE (%):\\n{rse_final}\\n\n",
    "Optimized Sampling Schedule: {xt_final}\\n\n",
    "Efficiency: {eff:.3f}\"\"\")\n",
    "\n",
    "print(\"=\"*30)"
   ]
  }
 ],
 "metadata": {
  "kernelspec": {
   "display_name": "numpyro",
   "language": "python",
   "name": "python3"
  },
  "language_info": {
   "codemirror_mode": {
    "name": "ipython",
    "version": 3
   },
   "file_extension": ".py",
   "mimetype": "text/x-python",
   "name": "python",
   "nbconvert_exporter": "python",
   "pygments_lexer": "ipython3",
   "version": "3.12.0"
  }
 },
 "nbformat": 4,
 "nbformat_minor": 2
}
